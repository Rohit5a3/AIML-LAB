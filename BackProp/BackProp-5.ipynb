{
 "cells": [
  {
   "cell_type": "code",
   "execution_count": 1,
   "id": "9be5afd4",
   "metadata": {},
   "outputs": [
    {
     "name": "stdout",
     "output_type": "stream",
     "text": [
      "Input:\n",
      "[[0.66666667 1.        ]\n",
      " [0.33333333 0.55555556]\n",
      " [1.         0.66666667]]\n",
      "Actual op:\n",
      "[[0.92]\n",
      " [0.86]\n",
      " [0.89]]\n",
      "Predicted-op:\n",
      " [[0.89639271]\n",
      " [0.8759079 ]\n",
      " [0.89714674]]\n"
     ]
    }
   ],
   "source": [
    "# -*- coding: utf-8 -*-\n",
    "\"\"\"\n",
    "Created on Fri Jan  6 03:11:51 2023\n",
    "\n",
    "@author: Dell\n",
    "\"\"\"\n",
    "\n",
    "import numpy as np\n",
    "\n",
    "X=np.array(([2,9],[1,5],[3,6]))\n",
    "y=np.array(([92],[86],[89]))\n",
    "X=X/(np.amax(X,axis=0)) #Important amax\n",
    "y=y/100\n",
    "\n",
    "def sigmoid(x):\n",
    "    return 1/(1+np.exp(-x))\n",
    "def derivatives_sigmoid(x):\n",
    "    return x*(1-x)\n",
    "\n",
    "epoch=5000\n",
    "lr=0.1\n",
    "inputlayer_neurons=2\n",
    "hiddenlayer_neurons=3\n",
    "output_neurons=1\n",
    "\n",
    "wh=np.random.uniform(size=(inputlayer_neurons,hiddenlayer_neurons))\n",
    "bh=np.random.uniform(size=(1,hiddenlayer_neurons))\n",
    "wout=np.random.uniform(size=(hiddenlayer_neurons,output_neurons))\n",
    "bout=np.random.uniform(size=(1,output_neurons))\n",
    "\n",
    "for i in range(epoch):\n",
    "    #F P\n",
    "    hinp1=np.dot(X,wh)\n",
    "    hinp=hinp1+bh\n",
    "    hlayer_act=sigmoid(hinp)\n",
    "    outinp1=np.dot(hlayer_act,wout)\n",
    "    outinp=outinp1+bout\n",
    "    output=sigmoid(outinp)\n",
    "    \n",
    "    #b p\n",
    "    E0=y-output\n",
    "    outgrad=derivatives_sigmoid(output)\n",
    "    d_output=E0*outgrad\n",
    "    EH=d_output.dot(wout.T)            #This is difficult\n",
    "    \n",
    "    # h p\n",
    "    hiddengrad=derivatives_sigmoid(hlayer_act)\n",
    "    d_hiddenlayer=EH*hiddengrad\n",
    "    \n",
    "    #output\n",
    "    wout+=hlayer_act.T.dot(d_output)*lr #difficult\n",
    "    wh+=X.T.dot(d_hiddenlayer)*lr       #difficult\n",
    "    \n",
    "print(\"Input:\\n\"+str(X))\n",
    "print(\"Actual op:\\n\"+str(y))\n",
    "print(\"Predicted-op:\\n\",output)\n"
   ]
  },
  {
   "cell_type": "code",
   "execution_count": null,
   "id": "80ff1fcc",
   "metadata": {},
   "outputs": [],
   "source": []
  }
 ],
 "metadata": {
  "kernelspec": {
   "display_name": "Python 3 (ipykernel)",
   "language": "python",
   "name": "python3"
  },
  "language_info": {
   "codemirror_mode": {
    "name": "ipython",
    "version": 3
   },
   "file_extension": ".py",
   "mimetype": "text/x-python",
   "name": "python",
   "nbconvert_exporter": "python",
   "pygments_lexer": "ipython3",
   "version": "3.9.13"
  }
 },
 "nbformat": 4,
 "nbformat_minor": 5
}
